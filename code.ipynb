{
 "cells": [
  {
   "cell_type": "code",
   "execution_count": 1,
   "id": "d77ad5e6",
   "metadata": {
    "_cell_guid": "b1076dfc-b9ad-4769-8c92-a6c4dae69d19",
    "_uuid": "8f2839f25d086af736a60e9eeb907d3b93b6e0e5",
    "execution": {
     "iopub.execute_input": "2024-05-08T08:15:10.064580Z",
     "iopub.status.busy": "2024-05-08T08:15:10.064105Z",
     "iopub.status.idle": "2024-05-08T08:15:11.214804Z",
     "shell.execute_reply": "2024-05-08T08:15:11.213378Z"
    },
    "papermill": {
     "duration": 1.15871,
     "end_time": "2024-05-08T08:15:11.217488",
     "exception": false,
     "start_time": "2024-05-08T08:15:10.058778",
     "status": "completed"
    },
    "tags": []
   },
   "outputs": [
    {
     "name": "stdout",
     "output_type": "stream",
     "text": [
      "/kaggle/input/hate-norm/train.csv\n",
      "/kaggle/input/hate-norm/test.csv\n"
     ]
    }
   ],
   "source": [
    "# This Python 3 environment comes with many helpful analytics libraries installed\n",
    "# It is defined by the kaggle/python Docker image: https://github.com/kaggle/docker-python\n",
    "# For example, here's several helpful packages to load\n",
    "\n",
    "import numpy as np # linear algebra\n",
    "import pandas as pd # data processing, CSV file I/O (e.g. pd.read_csv)\n",
    "\n",
    "# Input data files are available in the read-only \"../input/\" directory\n",
    "# For example, running this (by clicking run or pressing Shift+Enter) will list all files under the input directory\n",
    "\n",
    "import os\n",
    "for dirname, _, filenames in os.walk('/kaggle/input'):\n",
    "    for filename in filenames:\n",
    "        print(os.path.join(dirname, filename))\n",
    "\n",
    "# You can write up to 20GB to the current directory (/kaggle/working/) that gets preserved as output when you create a version using \"Save & Run All\" \n",
    "# You can also write temporary files to /kaggle/temp/, but they won't be saved outside of the current session"
   ]
  },
  {
   "cell_type": "code",
   "execution_count": 2,
   "id": "74a7d277",
   "metadata": {
    "execution": {
     "iopub.execute_input": "2024-05-08T08:15:11.225906Z",
     "iopub.status.busy": "2024-05-08T08:15:11.224980Z",
     "iopub.status.idle": "2024-05-08T08:15:28.691038Z",
     "shell.execute_reply": "2024-05-08T08:15:28.689557Z"
    },
    "papermill": {
     "duration": 17.473419,
     "end_time": "2024-05-08T08:15:28.694183",
     "exception": false,
     "start_time": "2024-05-08T08:15:11.220764",
     "status": "completed"
    },
    "tags": []
   },
   "outputs": [
    {
     "name": "stdout",
     "output_type": "stream",
     "text": [
      "Collecting sklearn-crfsuite\r\n",
      "  Downloading sklearn_crfsuite-0.3.6-py2.py3-none-any.whl.metadata (3.8 kB)\r\n",
      "Collecting python-crfsuite>=0.8.3 (from sklearn-crfsuite)\r\n",
      "  Downloading python_crfsuite-0.9.10-cp310-cp310-manylinux_2_17_x86_64.manylinux2014_x86_64.whl.metadata (4.2 kB)\r\n",
      "Requirement already satisfied: six in /opt/conda/lib/python3.10/site-packages (from sklearn-crfsuite) (1.16.0)\r\n",
      "Requirement already satisfied: tabulate in /opt/conda/lib/python3.10/site-packages (from sklearn-crfsuite) (0.9.0)\r\n",
      "Requirement already satisfied: tqdm>=2.0 in /opt/conda/lib/python3.10/site-packages (from sklearn-crfsuite) (4.66.1)\r\n",
      "Downloading sklearn_crfsuite-0.3.6-py2.py3-none-any.whl (12 kB)\r\n",
      "Downloading python_crfsuite-0.9.10-cp310-cp310-manylinux_2_17_x86_64.manylinux2014_x86_64.whl (1.1 MB)\r\n",
      "\u001b[2K   \u001b[90m━━━━━━━━━━━━━━━━━━━━━━━━━━━━━━━━━━━━━━━━\u001b[0m \u001b[32m1.1/1.1 MB\u001b[0m \u001b[31m17.4 MB/s\u001b[0m eta \u001b[36m0:00:00\u001b[0m\r\n",
      "\u001b[?25hInstalling collected packages: python-crfsuite, sklearn-crfsuite\r\n",
      "Successfully installed python-crfsuite-0.9.10 sklearn-crfsuite-0.3.6\r\n"
     ]
    }
   ],
   "source": [
    "!pip install sklearn-crfsuite\n"
   ]
  },
  {
   "cell_type": "code",
   "execution_count": 3,
   "id": "a87b3127",
   "metadata": {
    "execution": {
     "iopub.execute_input": "2024-05-08T08:15:28.704058Z",
     "iopub.status.busy": "2024-05-08T08:15:28.703641Z",
     "iopub.status.idle": "2024-05-08T08:15:35.768971Z",
     "shell.execute_reply": "2024-05-08T08:15:35.767407Z"
    },
    "papermill": {
     "duration": 7.073902,
     "end_time": "2024-05-08T08:15:35.771952",
     "exception": false,
     "start_time": "2024-05-08T08:15:28.698050",
     "status": "completed"
    },
    "tags": []
   },
   "outputs": [],
   "source": [
    "import pandas as pd\n",
    "from sklearn_crfsuite import CRF\n",
    "from sklearn.model_selection import train_test_split\n",
    "from sklearn.metrics import classification_report\n",
    "\n",
    "# Load data from train.csv\n",
    "train_df = pd.read_csv(\"/kaggle/input/hate-norm/train.csv\", delimiter=\"|\", names=[\"id\", \"sentence\", \"span\", \"bio\"])\n",
    "\n",
    "# Feature extraction function\n",
    "def word2features(sentence, i):\n",
    "    word = sentence[i]\n",
    "    features = {\n",
    "        'bias': 1.0,\n",
    "        'word.lower()': word.lower(),\n",
    "        'word[-3:]': word[-3:],\n",
    "        'word[-2:]': word[-2:],\n",
    "        'word.isupper()': word.isupper(),\n",
    "        'word.istitle()': word.istitle(),\n",
    "        'word.isdigit()': word.isdigit(),\n",
    "    }\n",
    "    if i > 0:\n",
    "        word1 = sentence[i-1]\n",
    "        features.update({\n",
    "            '-1:word.lower()': word1.lower(),\n",
    "            '-1:word.istitle()': word1.istitle(),\n",
    "            '-1:word.isupper()': word1.isupper(),\n",
    "        })\n",
    "    else:\n",
    "        features['BOS'] = True\n",
    "    if i < len(sentence)-1:\n",
    "        word1 = sentence[i+1]\n",
    "        features.update({\n",
    "            '+1:word.lower()': word1.lower(),\n",
    "            '+1:word.istitle()': word1.istitle(),\n",
    "            '+1:word.isupper()': word1.isupper(),\n",
    "        })\n",
    "    else:\n",
    "        features['EOS'] = True\n",
    "    return features\n",
    "\n",
    "def sentence2features(sentence):\n",
    "    return [word2features(sentence, i) for i in range(len(sentence))]\n",
    "\n",
    "def sentence2labels(sentence):\n",
    "    labels = sentence['bio'].split()\n",
    "    # print(labels)\n",
    "    if len(sentence['sentence'].split()) != len(labels):\n",
    "        # Handle mismatch by truncating or padding labels\n",
    "        if len(labels) > len(sentence['sentence'].split()):\n",
    "            labels = labels[:len(sentence['sentence'].split())]\n",
    "        else:\n",
    "            labels.extend(['O'] * (len(sentence['sentence'].split()) - len(labels)))\n",
    "    return labels\n",
    "\n",
    "\n",
    "# Prepare data\n",
    "X = train_df['sentence'].str.split().apply(sentence2features).tolist()\n",
    "y = train_df.apply(sentence2labels, axis=1)\n",
    "# print(len(X), len(y))\n",
    "\n",
    "# Split data into train and test sets\n",
    "X_train, X_test, y_train, y_test = train_test_split(X, y, test_size=0.2, random_state=42)\n",
    "# print(X)\n",
    "# print(y_train)\n",
    "# print(\"Hello\")\n",
    "# Train CRF model\n",
    "crf = CRF(algorithm='lbfgs',\n",
    "          c1=0.1,\n",
    "          c2=0.1,\n",
    "          max_iterations=100,\n",
    "          all_possible_transitions=True)\n",
    "crf.fit(X_train, y_train)\n",
    "\n",
    "# Evaluate model\n",
    "y_pred = crf.predict(X_test)\n",
    "# print(classification_report(y_test, y_pred))\n",
    "\n",
    "# Predict on new data (test.csv)\n",
    "test_df = pd.read_csv(\"/kaggle/input/hate-norm/test.csv\", delimiter=\"|\", names=[\"id\", \"sentence\"])\n",
    "X_test_new = test_df['sentence'].str.split().apply(sentence2features).tolist()\n",
    "y_pred_new = crf.predict(X_test_new)\n",
    "\n",
    "# Append predicted BIO tags to test.csv\n",
    "# Convert y_pred_new to string\n",
    "y_pred_new = [' '.join(i) for i in y_pred_new]\n",
    "test_df['bio'] = y_pred_new\n",
    "output_df = test_df[['id', 'bio']]\n",
    "output_df.to_csv(\"test_with_bio.csv\", sep=\",\", index=False)\n",
    "\n",
    "# print(y_pred)\n"
   ]
  },
  {
   "cell_type": "code",
   "execution_count": 4,
   "id": "81df8599",
   "metadata": {
    "execution": {
     "iopub.execute_input": "2024-05-08T08:15:35.781251Z",
     "iopub.status.busy": "2024-05-08T08:15:35.780800Z",
     "iopub.status.idle": "2024-05-08T08:15:35.810491Z",
     "shell.execute_reply": "2024-05-08T08:15:35.808893Z"
    },
    "papermill": {
     "duration": 0.03794,
     "end_time": "2024-05-08T08:15:35.813571",
     "exception": false,
     "start_time": "2024-05-08T08:15:35.775631",
     "status": "completed"
    },
    "tags": []
   },
   "outputs": [
    {
     "name": "stdout",
     "output_type": "stream",
     "text": [
      "              precision    recall  f1-score   support\n",
      "\n",
      "           B       1.00      0.89      0.94       485\n",
      "           I       0.78      0.67      0.72       246\n",
      "           O       0.99      1.00      0.99       479\n",
      "\n",
      "   micro avg       0.96      0.89      0.92      1210\n",
      "   macro avg       0.92      0.85      0.88      1210\n",
      "weighted avg       0.95      0.89      0.92      1210\n",
      " samples avg       0.96      0.89      0.91      1210\n",
      "\n"
     ]
    }
   ],
   "source": [
    "from sklearn.preprocessing import MultiLabelBinarizer\n",
    "from sklearn.metrics import classification_report\n",
    "\n",
    "# Convert sequences of sequences to binary arrays\n",
    "mlb = MultiLabelBinarizer()\n",
    "y_test_bin = mlb.fit_transform(y_test)\n",
    "y_pred_bin = mlb.transform(y_pred)\n",
    "\n",
    "# Print classification report\n",
    "print(classification_report(y_test_bin, y_pred_bin, target_names=mlb.classes_))\n"
   ]
  }
 ],
 "metadata": {
  "kaggle": {
   "accelerator": "none",
   "dataSources": [
    {
     "datasetId": 4963862,
     "sourceId": 8354165,
     "sourceType": "datasetVersion"
    }
   ],
   "dockerImageVersionId": 30698,
   "isGpuEnabled": false,
   "isInternetEnabled": true,
   "language": "python",
   "sourceType": "notebook"
  },
  "kernelspec": {
   "display_name": "Python 3",
   "language": "python",
   "name": "python3"
  },
  "language_info": {
   "codemirror_mode": {
    "name": "ipython",
    "version": 3
   },
   "file_extension": ".py",
   "mimetype": "text/x-python",
   "name": "python",
   "nbconvert_exporter": "python",
   "pygments_lexer": "ipython3",
   "version": "3.10.13"
  },
  "papermill": {
   "default_parameters": {},
   "duration": 29.784247,
   "end_time": "2024-05-08T08:15:36.539799",
   "environment_variables": {},
   "exception": null,
   "input_path": "__notebook__.ipynb",
   "output_path": "__notebook__.ipynb",
   "parameters": {},
   "start_time": "2024-05-08T08:15:06.755552",
   "version": "2.5.0"
  }
 },
 "nbformat": 4,
 "nbformat_minor": 5
}
